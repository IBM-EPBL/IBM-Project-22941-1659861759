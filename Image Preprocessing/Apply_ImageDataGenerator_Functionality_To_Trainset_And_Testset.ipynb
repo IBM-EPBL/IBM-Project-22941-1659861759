{
  "nbformat": 4,
  "nbformat_minor": 0,
  "metadata": {
    "colab": {
      "provenance": []
    },
    "kernelspec": {
      "name": "python3",
      "display_name": "Python 3"
    },
    "language_info": {
      "name": "python"
    }
  },
  "cells": [
    {
      "cell_type": "code",
      "execution_count": null,
      "metadata": {
        "id": "NRmk2vmAo9Gr"
      },
      "outputs": [],
      "source": [
        "#performing data agumentation to train data\n",
        "x_train = train_datagen.flow_from_directory(\n",
        "    r'/content/gdrive/MyDrive/dataset/train_set',\n",
        "target_size=(64, 64),batch_size=5,color_mode='rgb',class_mode='sparse')\n",
        "#performing data agumentation to test data\n",
        "x_test = test_datagen.flow_from_directory(\n",
        "r'/content/gdrive/MyDrive/dataset/test_set',\n",
        "target_size=(64, 64), batch_size=5,color_mode='rgb',class_mode='sparse')"
      ]
    }
  ]
}