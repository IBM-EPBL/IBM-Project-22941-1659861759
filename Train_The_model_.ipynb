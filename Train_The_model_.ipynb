{
  "nbformat": 4,
  "nbformat_minor": 0,
  "metadata": {
    "colab": {
      "provenance": []
    },
    "kernelspec": {
      "name": "python3",
      "display_name": "Python 3"
    },
    "language_info": {
      "name": "python"
    }
  },
  "cells": [
    {
      "cell_type": "code",
      "source": [
        "classifier.fit_generator(\n",
        "        generator=x_train,steps_per_epoch = len(x_train),\n",
        "        epochs=10, validation_data=x_test,validation_steps = len(x_test))"
      ],
      "metadata": {
        "id": "_F0FJOAlWjs6"
      },
      "execution_count": null,
      "outputs": []
    }
  ]
}